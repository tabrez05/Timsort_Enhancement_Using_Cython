{
 "cells": [
  {
   "cell_type": "markdown",
   "id": "871b328f",
   "metadata": {},
   "source": [
    "# Sorting Algorithms Efficiency Analysis"
   ]
  },
  {
   "cell_type": "code",
   "execution_count": 2,
   "id": "15af3b64",
   "metadata": {},
   "outputs": [],
   "source": [
    "\n",
    "import numpy as np\n",
    "import time\n",
    "import matplotlib.pyplot as plt\n",
    "\n",
    "# Define sorting algorithms\n",
    "def insertion_sort(arr):\n",
    "    for i in range(1, len(arr)):\n",
    "        key = arr[i]\n",
    "        j = i - 1\n",
    "        while j >= 0 and key < arr[j]:\n",
    "            arr[j + 1] = arr[j]\n",
    "            j -= 1\n",
    "        arr[j + 1] = key\n",
    "    return arr\n",
    "\n",
    "\n",
    "\n",
    "# Measure performance\n",
    "\n",
    "\n"
   ]
  },
  {
   "cell_type": "code",
   "execution_count": 3,
   "id": "e8609305",
   "metadata": {},
   "outputs": [],
   "source": [
    "def quick_sort(arr):\n",
    "    if len(arr) <= 1:\n",
    "        return arr\n",
    "    pivot = arr[len(arr) // 2]\n",
    "    left = [x for x in arr if x < pivot]\n",
    "    middle = [x for x in arr if x == pivot]\n",
    "    right = [x for x in arr if x > pivot]\n",
    "    return quick_sort(left) + middle + quick_sort(right)"
   ]
  },
  {
   "cell_type": "code",
   "execution_count": 4,
   "id": "548143fd",
   "metadata": {},
   "outputs": [],
   "source": [
    "\n",
    "def merge_sort(arr):\n",
    "    if len(arr) > 1:\n",
    "        mid = len(arr) // 2\n",
    "        L = arr[:mid]\n",
    "        R = arr[mid:]\n",
    "        merge_sort(L)\n",
    "        merge_sort(R)\n",
    "        i = j = k = 0\n",
    "        while i < len(L) and j < len(R):\n",
    "            if L[i] < R[j]:\n",
    "                arr[k] = L[i]\n",
    "                i += 1\n",
    "            else:\n",
    "                arr[k] = R[j]\n",
    "                j += 1\n",
    "            k += 1\n",
    "        while i < len(L):\n",
    "            arr[k] = L[i]\n",
    "            i += 1\n",
    "            k += 1\n",
    "        while j < len(R):\n",
    "            arr[k] = R[j]\n",
    "            j += 1\n",
    "            k += 1\n",
    "    return arr\n"
   ]
  },
  {
   "cell_type": "code",
   "execution_count": 5,
   "id": "e6a68d5a",
   "metadata": {},
   "outputs": [],
   "source": [
    "def radix_sort(arr):\n",
    "    max_val = max(arr)\n",
    "    exp = 1\n",
    "    while max_val // exp > 0:\n",
    "        counting_sort(arr, exp)\n",
    "        exp *= 10\n",
    "    return arr"
   ]
  },
  {
   "cell_type": "code",
   "execution_count": 6,
   "id": "713aa13f",
   "metadata": {},
   "outputs": [],
   "source": [
    "\n",
    "def counting_sort(arr, exp):\n",
    "    n = len(arr)\n",
    "    output = [0] * n\n",
    "    count = [0] * 10\n",
    "    for i in range(n):\n",
    "        index = (arr[i] // exp) % 10\n",
    "        count[index] += 1\n",
    "    for i in range(1, 10):\n",
    "        count[i] += count[i - 1]\n",
    "    i = n - 1\n",
    "    while i >= 0:\n",
    "        index = (arr[i] // exp) % 10\n",
    "        output[count[index] - 1] = arr[i]\n",
    "        count[index] -= 1\n",
    "        i -= 1\n",
    "    for i in range(len(arr)):\n",
    "        arr[i] = output[i]"
   ]
  },
  {
   "cell_type": "code",
   "execution_count": 7,
   "id": "aaa9fd94",
   "metadata": {},
   "outputs": [],
   "source": [
    "def measure_sorting_algorithms():\n",
    "    algorithms = {\n",
    "        \"Insertion Sort\": insertion_sort,\n",
    "        \"Quick Sort\": quick_sort,\n",
    "        \"Merge Sort\": merge_sort,\n",
    "        \"Radix Sort\": radix_sort\n",
    "    }\n",
    "    \n",
    "    sizes = [10, 100, 500, 1000, 2000]\n",
    "    scenarios = [\"Best Case\", \"Average Case\", \"Worst Case\"]\n",
    "    results = {alg: {scenario: [] for scenario in scenarios} for alg in algorithms}\n",
    "    \n",
    "    for size in sizes:\n",
    "        for scenario in scenarios:\n",
    "            if scenario == \"Best Case\":\n",
    "                arr = list(range(size))\n",
    "            elif scenario == \"Average Case\":\n",
    "                arr = np.random.randint(0, size, size).tolist()\n",
    "            elif scenario == \"Worst Case\":\n",
    "                arr = list(range(size, 0, -1))\n",
    "            \n",
    "            for name, func in algorithms.items():\n",
    "                start_time = time.time()\n",
    "                func(arr.copy())\n",
    "                elapsed_time = time.time() - start_time\n",
    "                results[name][scenario].append(elapsed_time)\n",
    "    \n",
    "    return sizes, results\n"
   ]
  },
  {
   "cell_type": "code",
   "execution_count": null,
   "id": "fc23833c",
   "metadata": {},
   "outputs": [
    {
     "ename": "NameError",
     "evalue": "name 'measure_sorting_algorithms' is not defined",
     "output_type": "error",
     "traceback": [
      "\u001b[1;31m---------------------------------------------------------------------------\u001b[0m",
      "\u001b[1;31mNameError\u001b[0m                                 Traceback (most recent call last)",
      "Cell \u001b[1;32mIn[1], line 2\u001b[0m\n\u001b[0;32m      1\u001b[0m \u001b[38;5;66;03m# Generate plots\u001b[39;00m\n\u001b[1;32m----> 2\u001b[0m sizes, results \u001b[38;5;241m=\u001b[39m \u001b[43mmeasure_sorting_algorithms\u001b[49m()\n\u001b[0;32m      4\u001b[0m fig, axs \u001b[38;5;241m=\u001b[39m plt\u001b[38;5;241m.\u001b[39msubplots(\u001b[38;5;241m2\u001b[39m, \u001b[38;5;241m2\u001b[39m, figsize\u001b[38;5;241m=\u001b[39m(\u001b[38;5;241m10\u001b[39m, \u001b[38;5;241m8\u001b[39m))\n\u001b[0;32m      5\u001b[0m axs \u001b[38;5;241m=\u001b[39m axs\u001b[38;5;241m.\u001b[39mravel()\n",
      "\u001b[1;31mNameError\u001b[0m: name 'measure_sorting_algorithms' is not defined"
     ]
    }
   ],
   "source": [
    "# Generate plots\n",
    "sizes, results = measure_sorting_algorithms()\n",
    "\n",
    "fig, axs = plt.subplots(2, 2, figsize=(10, 8))\n",
    "axs = axs.ravel()\n",
    "for i, (name, result) in enumerate(results.items()):\n",
    "    for scenario, times in result.items():\n",
    "        axs[i].plot(sizes, times, label=scenario)\n",
    "    axs[i].set_title(name)\n",
    "    axs[i].set_xlabel(\"Input Size\")\n",
    "    axs[i].set_ylabel(\"Time (seconds)\")\n",
    "    axs[i].legend()\n",
    "    axs[i].grid()\n",
    "\n",
    "plt.tight_layout()\n",
    "plt.show()"
   ]
  },
  {
   "cell_type": "markdown",
   "id": "b996c7fc",
   "metadata": {},
   "source": [
    "1. Efficiency of Insertion Sort for Small Arrays\n",
    "Graph Insight: Insertion sort performs exceptionally well for small input sizes (e.g., 10-100 elements), as shown by its minimal runtime in these cases.\n",
    "Connection: Timsort uses insertion sort for sorting small subarrays because it has lower overhead than recursive algorithms like merge sort or quicksort.\n",
    "Explanation: Insertion sort's simplicity and ability to take advantage of already-sorted elements (common in real-world data) make it ideal for small segments."
   ]
  },
  {
   "cell_type": "code",
   "execution_count": null,
   "id": "033c3e86",
   "metadata": {},
   "outputs": [],
   "source": []
  }
 ],
 "metadata": {
  "kernelspec": {
   "display_name": "Python 3",
   "language": "python",
   "name": "python3"
  },
  "language_info": {
   "codemirror_mode": {
    "name": "ipython",
    "version": 3
   },
   "file_extension": ".py",
   "mimetype": "text/x-python",
   "name": "python",
   "nbconvert_exporter": "python",
   "pygments_lexer": "ipython3",
   "version": "3.12.8"
  }
 },
 "nbformat": 4,
 "nbformat_minor": 5
}
